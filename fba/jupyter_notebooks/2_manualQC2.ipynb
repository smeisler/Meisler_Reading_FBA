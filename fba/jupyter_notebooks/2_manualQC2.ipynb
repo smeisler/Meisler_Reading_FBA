{
 "cells": [
  {
   "cell_type": "markdown",
   "id": "b6ebb8b6-2d0e-439b-ae2f-b39be92519ff",
   "metadata": {},
   "source": [
    "# Manual QC 2: Filter out subjects with bad template warps.\n",
    "## Do this between bash scripts 5 and 6.\n",
    "### This step is very important, as the final analysis mask is the intersection of all the template masks\n",
    "Remove any bad subjects from the FBA derivatives directories before proceeding"
   ]
  },
  {
   "cell_type": "code",
   "execution_count": null,
   "id": "e417522c-ceb1-4d1b-adcb-049875e92a85",
   "metadata": {},
   "outputs": [],
   "source": [
    "import nilearn\n",
    "from nilearn.image import load_img\n",
    "from nilearn.plotting import plot_img\n",
    "import matplotlib.pyplot as plt\n",
    "import glob\n",
    "import numpy as np\n",
    "import os\n",
    "\n",
    "bids_dir = '/om4/group/gablab/data/hbn_bids/'\n",
    "qsiprep_dir = bids_dir+'derivatives/qsiprep_fba_subs/'\n",
    "fba_dir = bids_dir+'derivatives/fba/'\n",
    "out_variable_dir = os.getcwd()+'/output_variables/'"
   ]
  },
  {
   "cell_type": "code",
   "execution_count": null,
   "id": "7a6e3dae-a6f5-4b62-b223-cb1df48d7608",
   "metadata": {},
   "outputs": [],
   "source": [
    "subs = [s.split('/')[-1] for s in glob.glob(fba_dir+'sub*')]\n",
    "subs.sort()\n",
    "# Load template FODs\n",
    "fod_template = bids_dir+'/derivatives/fba/template/wmfod_template.nii.gz'\n",
    "fod_img_full = load_img(fod_template)\n",
    "fod_img = nilearn.image.index_img(fod_img_full, 0) # extract just the first slice for plotting purposes\n",
    "\n",
    "# Make images \n",
    "index=0\n",
    "num_images = np.ceil(np.size(subs)/50).astype(int)\n",
    "# Create images with 50 brains in each, overlaying subject warped images on top template to check for good fit\n",
    "for ite in range(num_images):\n",
    "    print(ite)\n",
    "    fig, axes = plt.subplots(10,5,figsize=(20, 20))\n",
    "    for i in range(index,index+50):\n",
    "        try:\n",
    "            sub=subs[i]\n",
    "            sub_img_path = fba_dir+sub+'/template/mask_template.nii.gz'\n",
    "            img = load_img(sub_img_path)\n",
    "            plot = plot_img(fod_img,axes=axes.flatten()[i-50*ite],title=sub,display_mode='x',cut_coords=[0])\n",
    "            plot.add_overlay(img,cmap=nilearn.plotting.cm.purple_green,alpha=0.7)\n",
    "        except Exception as e: print(e)\n",
    "    index = index+50\n",
    "    # Save image for future reference\n",
    "    plt.savefig(out_variable_dir+'QC_iteration_'+str(ite))\n",
    "    plt.show()"
   ]
  }
 ],
 "metadata": {
  "kernelspec": {
   "display_name": "nipype",
   "language": "python",
   "name": "nipype"
  },
  "language_info": {
   "codemirror_mode": {
    "name": "ipython",
    "version": 3
   },
   "file_extension": ".py",
   "mimetype": "text/x-python",
   "name": "python",
   "nbconvert_exporter": "python",
   "pygments_lexer": "ipython3",
   "version": "3.8.13"
  }
 },
 "nbformat": 4,
 "nbformat_minor": 5
}
