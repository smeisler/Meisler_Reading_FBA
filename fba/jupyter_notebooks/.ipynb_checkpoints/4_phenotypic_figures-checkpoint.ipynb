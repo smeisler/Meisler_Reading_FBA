{
 "cells": [
  {
   "cell_type": "code",
   "execution_count": null,
   "id": "4348a0b8-d453-4b7d-b4c2-fad02f6ecdaa",
   "metadata": {},
   "outputs": [],
   "source": [
    "import pandas as pd\n",
    "import numpy as np\n",
    "import matplotlib.pyplot as plt\n",
    "import pingouin\n",
    "import seaborn as sns\n",
    "import scipy\n",
    "import statistics\n",
    "import os\n",
    "from bioinfokit.analys import stat\n",
    "from statannotations.Annotator import Annotator\n",
    "\n",
    "# CHANGE THIS VARIABLE TO REFLECT WHERE YOUR HBN BIDS DATA LIVE ()\n",
    "bids_dir = '/om4/group/gablab/data/hbn_bids/' # Path should end with a '/'\n",
    "\n",
    "# THESE VARIABLES SHOULD NOT CHANGE IF THE ANALYSIS WAS RUN ACCORDING TO INSTRUCTIONS\n",
    "code_dir = bids_dir+'code/'\n",
    "derivatives_dir = bids_dir+'derivatives/'\n",
    "pod2_dir = derivatives_dir+'qsiprep/'\n",
    "fba_dir = derivatives_dir+'fba/'\n",
    "freesurfer_dir = derivatives_dir+'freesurfer/'\n",
    "out_variable_dir = os.getcwd()+'/output_variables/'\n",
    "\n",
    "# Load DataFrame made in step 3 notebook\n",
    "df = pd.read_pickle(out_variable_dir+'df.pkl')"
   ]
  },
  {
   "cell_type": "markdown",
   "id": "e7be20ba-3944-425a-96a9-ce4d41ab7038",
   "metadata": {},
   "source": [
    "## TR vs RD Stats (Table 1)"
   ]
  },
  {
   "cell_type": "code",
   "execution_count": null,
   "id": "ba224dfb-29cc-4aaa-81eb-0c6f951293db",
   "metadata": {},
   "outputs": [],
   "source": [
    "#Get the mean, sum, and std of stats broken down by groups\n",
    "mean_stats_tr_rd = df.groupby('GROUP').mean()\n",
    "sum_stats_tr_rd = df.groupby('GROUP').sum()\n",
    "sem_stats_tr_rd = df.groupby('GROUP').sem()\n",
    "# Get indices of TR and RD participants\n",
    "inds_tr = (df['GROUP']=='TR')\n",
    "inds_rd = (df['GROUP']=='RD')\n",
    "\n",
    "# PRINT COHORT-WIDE STATISTICS\n",
    "num_tr = sum(inds_tr)\n",
    "num_rd = sum(inds_rd)\n",
    "num_female_tr = sum(df[inds_tr]['SEX']=='F')\n",
    "num_female_rd = sum(df[inds_rd]['SEX']=='F')\n",
    "# Print sexes of participants\n",
    "print('n TR:', num_tr, ', M (',num_tr - num_female_tr,')', 'F(',num_female_tr,')')\n",
    "print('n RD:', num_rd, ', M (',num_rd - num_female_rd,')', 'F(',num_female_rd,')\\n')\n",
    "# Print metric-by-metric t-stats\n",
    "for metric in ['AGE','EHI','SES','ICV','WISC_VSI','WISC_VCI','TOWRE','gFD','gFC','MOTION','N_CORR']:\n",
    "    print('AVERAGE '+metric+':',np.nanmean(df[metric]),'(',scipy.stats.sem(df[metric],nan_policy='omit'),')')\n",
    "    print('COMPARE '+metric+': TR MEAN (SD):',mean_stats_tr_rd[metric]['TR'],'(',sem_stats_tr_rd[metric]['TR'],'), RD MEAN (SD):', \n",
    "          mean_stats_tr_rd[metric]['RD'],'(',sem_stats_tr_rd[metric]['RD'],')')\n",
    "    print(pingouin.ttest(x=np.asarray(df[metric][inds_tr]), y=np.asarray(df[metric][inds_rd])),'\\n')"
   ]
  },
  {
   "cell_type": "markdown",
   "id": "5700b986-4a47-4c64-b0a9-f704aff8542a",
   "metadata": {},
   "source": [
    "## Plot TOWRE Scores / Group Figure (Figure 2)"
   ]
  },
  {
   "cell_type": "code",
   "execution_count": null,
   "id": "37d88e22-474d-456c-9d53-7126fc18e5cd",
   "metadata": {},
   "outputs": [],
   "source": [
    "x_label = 'SWE'\n",
    "y_label = 'PDE'\n",
    "hue = 'GROUP'\n",
    "# Scatterplot\n",
    "\n",
    "corr_plot = sns.jointplot(data=df, x=x_label, y=y_label,hue=hue,height=10,legend=True,\n",
    "                         xlim=[min(df[x_label])-2,max(df[x_label])+2],\n",
    "                          ylim=[min(df[y_label])-2,max(df[y_label])+2])\n",
    "corr_plot.ax_joint.plot([85,85], [85,0], color='k',linestyle='--', linewidth = 2)\n",
    "corr_plot.ax_joint.plot([0,85], [85,85], color='k',linestyle='--', linewidth = 2)\n",
    "corr_plot.ax_joint.plot([90,90], [90,160], color='k',linestyle='--', linewidth = 2)\n",
    "corr_plot.ax_joint.plot([160,90], [90,90], color='k',linestyle='--', linewidth = 2)\n",
    "corr_plot.ax_joint.set_xlabel('TOWRE Sight Word Efficiency (Age-Standardized)',fontsize=20)\n",
    "corr_plot.ax_joint.set_ylabel('TOWRE Phonemic Decoding Efficiency (Age-Standardized)',fontsize=20)\n",
    "\n",
    "\n",
    "#plt.savefig(out_variable_dir+'towre.pdf',format='pdf')\n",
    "plt.show()"
   ]
  },
  {
   "cell_type": "markdown",
   "id": "91c4400b-dde4-4c59-9b56-00affdfe51e4",
   "metadata": {},
   "source": [
    "## Plot Correlation Matrix of Continuous Phenotypic Variables (Figure 3)"
   ]
  },
  {
   "cell_type": "code",
   "execution_count": null,
   "id": "a1eb2dc9-c77c-4a0a-9f12-515a768ce76d",
   "metadata": {},
   "outputs": [],
   "source": [
    "# Get dataframe with just covariates\n",
    "sns.set(font_scale=1.4, font='Arial')\n",
    "sns.set_style(\"white\")\n",
    "\n",
    "df_covars = df[['AGE','TOWRE','WISC_VCI','WISC_VSI','SES','ICV','MOTION','N_CORR','gFD','gFC']]\n",
    "# Calculate correlations across all pairwise columns\n",
    "corr = df_covars.corr(method='spearman')\n",
    "\n",
    "# Generate a mask for the upper triangle\n",
    "mask = np.triu(np.ones_like(corr, dtype=bool))\n",
    "\n",
    "# Set up the matplotlib figure\n",
    "f, ax = plt.subplots(figsize=(15, 15))\n",
    "# Generate a custom diverging colormap\n",
    "cmap = sns.diverging_palette(230, 20, as_cmap=True)\n",
    "\n",
    "# Draw the heatmap with the mask and correct aspect ratio\n",
    "sns.heatmap(corr, mask=mask, cmap=cmap, vmax = 1, vmin = -1, center=0,\n",
    "            square=True, linewidths=.5, cbar_kws={\"shrink\": .5}, annot=True, annot_kws={\"fontsize\":15})\n",
    "\n",
    "#plt.savefig(out_variable_dir+'covars_corr.pdf',format='pdf')\n",
    "plt.show()\n",
    "pingouin.rcorr(df_covars,method='spearman',padjust='fdr_bh', pval_stars={0.00001: '***', 0.001: '**', 0.05: '*'})"
   ]
  },
  {
   "cell_type": "markdown",
   "id": "c38b5659-eb06-4a74-aded-dcbf1d3bbb0f",
   "metadata": {},
   "source": [
    "## Differences Between Sites (Figure S1)"
   ]
  },
  {
   "cell_type": "code",
   "execution_count": null,
   "id": "8bc87989-ce9e-415d-8a02-dd2d3568e99c",
   "metadata": {},
   "outputs": [],
   "source": [
    "# PRINT COHORT-WIDE STATISTICS\n",
    "order = ['CBIC', 'CUNY', 'RU', 'SI'] # order of sites on plots\n",
    "between = 'SITE' # Variable to run ANOVA over\n",
    "\n",
    "for metric in ['AGE','EHI','SES','ICV','WISC_VCI','WISC_VSI','TOWRE','gFD','gFC','MOTION','N_CORR']:\n",
    "    print('\\n',metric)\n",
    "    # run anova and get stats\n",
    "    anova = pingouin.anova(data=df,dv=metric,between=between)\n",
    "    fvalue = anova['F'][0]\n",
    "    pvalue = anova['p-unc'][0]\n",
    "    print('F-stat:',fvalue, ', p-val:',pvalue)\n",
    "    \n",
    "    # If anova is significant, run post-hoc t-tests\n",
    "    if pvalue < 0.05:\n",
    "        # run tukey-corrected multiple t-tests\n",
    "        res = stat()\n",
    "        res.tukey_hsd(df=df, res_var=metric, xfac_var=between, anova_model=metric+'~ C('+between+')')\n",
    "        # create and annotate graph\n",
    "        box_pairs = [(g1,g2) for g1,g2 in zip(res.tukey_summary['group1'],res.tukey_summary['group2'])]\n",
    "        ax = sns.violinplot(data=df, x=between, y=metric, order=order)\n",
    "        annotator = Annotator(ax, box_pairs, data=df, x=between, y=metric, order=order)\n",
    "        annotator.configure(test='t-test_welch', text_format='star', loc='outside')\n",
    "        annotator.apply_and_annotate()\n",
    "        plt.show()\n"
   ]
  },
  {
   "cell_type": "markdown",
   "id": "6a493577-bdc3-49b1-82ac-000741d27e1e",
   "metadata": {},
   "source": [
    "## M vs F Stats"
   ]
  },
  {
   "cell_type": "code",
   "execution_count": null,
   "id": "8f19b09f-f151-40bf-b052-42909b6fea2d",
   "metadata": {},
   "outputs": [],
   "source": [
    "#Get the mean, sum, and std of stats broken down by sex\n",
    "mean_stats_sex = df.groupby('SEX').mean()\n",
    "sum_stats_sex = df.groupby('SEX').sum()\n",
    "sem_stats_sex = df.groupby('SEX').sem()\n",
    "# Get indices of M and F participants\n",
    "inds_m = (df['SEX']=='M')\n",
    "inds_f = (df['SEX']=='F')\n",
    "\n",
    "# PRINT COHORT-WIDE STATISTICS\n",
    "for metric in ['AGE','EHI','SES','ICV','WISC_VCI','WISC_VSI','TOWRE','gFD','gFC','MOTION','N_CORR']:\n",
    "    print('COMPARE '+metric+': M MEAN (SD):',mean_stats_sex[metric]['M'],'(',sem_stats_sex[metric]['M'],'), F MEAN (SD):', \n",
    "          mean_stats_sex[metric]['F'],'(',sem_stats_sex[metric]['F'],')')\n",
    "    print(pingouin.ttest(x=np.asarray(df[metric][inds_m]), y=np.asarray(df[metric][inds_f])),'\\n')"
   ]
  },
  {
   "cell_type": "markdown",
   "id": "b89a7251-710a-4408-8bdf-ec5819a7e37a",
   "metadata": {},
   "source": [
    "## Compare Differences in Stats Between Handedness"
   ]
  },
  {
   "cell_type": "code",
   "execution_count": null,
   "id": "4c76f437-0876-4c1d-b289-7320efc3be8a",
   "metadata": {},
   "outputs": [],
   "source": [
    "# PRINT COHORT-WIDE STATISTICS\n",
    "order = ['L', 'A', 'R'] # order of sites on plots\n",
    "between='HAND'\n",
    "\n",
    "for metric in ['AGE','SES','ICV','WISC_VCI','WISC_VSI','TOWRE','gFD','gFC','MOTION','N_CORR']:\n",
    "    print('\\n',metric)\n",
    "    # run anova and get stats\n",
    "    anova = pingouin.anova(data=df,dv=metric,between=between)\n",
    "    fvalue = anova['F'][0]\n",
    "    pvalue = anova['p-unc'][0]\n",
    "    print('F-stat:',fvalue, ', p-val:',pvalue)\n",
    "    \n",
    "    # If anova is significant, run post-hoc t-tests\n",
    "    if pvalue < 0.05:\n",
    "        # run tukey-corrected multiple t-tests\n",
    "        res = stat()\n",
    "        res.tukey_hsd(df=df, res_var=metric, xfac_var=between, anova_model=metric+'~ C('+between+')')\n",
    "        # create and annotate graph\n",
    "        box_pairs = [(g1,g2) for g1,g2 in zip(res.tukey_summary['group1'],res.tukey_summary['group2'])]\n",
    "        ax = sns.violinplot(data=df, x=between, y=metric, order=order)\n",
    "        annotator = Annotator(ax, box_pairs, data=df, x=between, y=metric, order=order)\n",
    "        annotator.configure(test='t-test_welch', text_format='star', loc='outside')\n",
    "        annotator.apply_and_annotate()\n",
    "        plt.show()"
   ]
  },
  {
   "cell_type": "markdown",
   "id": "d9e8bf47-1671-457e-a8a8-8c4588ea5aa0",
   "metadata": {},
   "source": [
    "## Extra: run your own correlations!"
   ]
  },
  {
   "cell_type": "code",
   "execution_count": null,
   "id": "33b5216e-766a-49d3-a80e-668c17711cb7",
   "metadata": {},
   "outputs": [],
   "source": [
    "# Add regression line\n",
    "x_label='TOWRE'\n",
    "y_label='WISC_VSI'\n",
    "hue = 'GROUP'\n",
    "corr_plot = sns.jointplot(data=df, x=x_label, y=y_label,hue=hue,height=10,legend=True,\n",
    "                         xlim=[min(df[x_label])-2,max(df[x_label])+2],\n",
    "                          ylim=[min(df[y_label])-2,max(df[y_label])+2])\n",
    "sns.regplot(x=x_label, y=y_label, data=df, robust=True, ax=corr_plot.ax_joint, \n",
    "                scatter_kws={'s':0}, line_kws={\"color\":\"black\"})\n",
    "#Compute correlation stats\n",
    "corr = pingouin.corr(x=df[x_label], y=df[y_label], method='skipped')\n",
    "print(corr)"
   ]
  }
 ],
 "metadata": {
  "kernelspec": {
   "display_name": "nipype",
   "language": "python",
   "name": "nipype"
  },
  "language_info": {
   "codemirror_mode": {
    "name": "ipython",
    "version": 3
   },
   "file_extension": ".py",
   "mimetype": "text/x-python",
   "name": "python",
   "nbconvert_exporter": "python",
   "pygments_lexer": "ipython3",
   "version": "3.8.13"
  }
 },
 "nbformat": 4,
 "nbformat_minor": 5
}
